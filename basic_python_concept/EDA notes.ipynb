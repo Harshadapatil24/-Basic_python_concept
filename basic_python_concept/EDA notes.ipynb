{
 "cells": [
  {
   "cell_type": "markdown",
   "id": "bbf25ec7-b002-4f93-8efb-a06a7d9e7150",
   "metadata": {},
   "source": [
    "EDA : Explaratory data Analysis\n",
    "foundation for ml\n",
    "It is data exploration techniques to undertsnad various ascects of the data.\n",
    "\n",
    "====\n",
    "\n",
    "ETL:Expert, Tranfrom, load \n",
    "where EDA require? : To Crate or build predictive data by raw data by cleansing and transformation into clean data.\n",
    "\n",
    "=====\n",
    "\n",
    "EDA technique: \n",
    "1.variable identification\n",
    "2.univariable analysis (plot the graph using 1 varaible)\n",
    "3.bivarible analysis(plot the graph using 2 varibale)\n",
    "                 co-realtion : realtion between two variable .divide into 3 :\n",
    "                                 1.strong positive \n",
    "                                 2.moderate\n",
    "                                 3.no correlation\n",
    "                                1.range is -1 to 1]\n",
    "4.outlier treatment (data point which is very far away from other datapoint)\n",
    "5.missing valaue treatment ()\n",
    "6.imputation technique (also know as transformer 2. no of class = no of classifer)\n",
    "7.variable creation \n",
    "\n",
    "===\n",
    "1.variable identification \n",
    "divide into 2 variable :\n",
    "             father--  (Y) 1.dependent variable(predictive varaible and target varaible)\n",
    "             mother-(x) 2.Independdent variable (non target varaible & non predictive var)\n",
    "\n",
    "============================================================================\n",
    "regression : data point or varaible is continues\n",
    "classification : point are on 1 and 0 & binary \n"
   ]
  },
  {
   "cell_type": "code",
   "execution_count": null,
   "id": "bfd412ea-60c2-4aa8-8fef-635a6e079ccd",
   "metadata": {},
   "outputs": [],
   "source": []
  },
  {
   "cell_type": "code",
   "execution_count": null,
   "id": "4b1f78b4-e9f1-479a-bf39-882dabcc1946",
   "metadata": {},
   "outputs": [],
   "source": []
  }
 ],
 "metadata": {
  "kernelspec": {
   "display_name": "Python [conda env:base] *",
   "language": "python",
   "name": "conda-base-py"
  },
  "language_info": {
   "codemirror_mode": {
    "name": "ipython",
    "version": 3
   },
   "file_extension": ".py",
   "mimetype": "text/x-python",
   "name": "python",
   "nbconvert_exporter": "python",
   "pygments_lexer": "ipython3",
   "version": "3.12.7"
  }
 },
 "nbformat": 4,
 "nbformat_minor": 5
}
