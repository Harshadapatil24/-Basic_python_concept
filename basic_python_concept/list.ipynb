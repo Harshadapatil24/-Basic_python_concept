{
 "cells": [
  {
   "cell_type": "markdown",
   "id": "9780fcca-4a96-4e41-b191-3a79650b988e",
   "metadata": {},
   "source": [
    "###List"
   ]
  },
  {
   "cell_type": "code",
   "execution_count": 1,
   "id": "67f7105c-b655-4e6a-bcb2-f1a6f8ae80c9",
   "metadata": {},
   "outputs": [
    {
     "data": {
      "text/plain": [
       "[]"
      ]
     },
     "execution_count": 1,
     "metadata": {},
     "output_type": "execute_result"
    }
   ],
   "source": [
    "l = [] #list creation\n",
    "l"
   ]
  },
  {
   "cell_type": "code",
   "execution_count": 3,
   "id": "6610e740-d38a-4b53-8c8d-0e61e574dee8",
   "metadata": {},
   "outputs": [
    {
     "data": {
      "text/plain": [
       "[10, 20, 30]"
      ]
     },
     "execution_count": 3,
     "metadata": {},
     "output_type": "execute_result"
    }
   ],
   "source": [
    "l = [10,20,30] #list of integer numbers\n",
    "l"
   ]
  },
  {
   "cell_type": "code",
   "execution_count": 7,
   "id": "f0fb2dc4-e448-4ffa-8618-27654d86dedc",
   "metadata": {},
   "outputs": [
    {
     "data": {
      "text/plain": [
       "[10.2, 30.2, 19.35]"
      ]
     },
     "execution_count": 7,
     "metadata": {},
     "output_type": "execute_result"
    }
   ],
   "source": [
    "l1 = [10.2 , 30.2,19.35] # list of float number\n",
    "l"
   ]
  },
  {
   "cell_type": "code",
   "execution_count": 21,
   "id": "fe239a76-a9aa-4221-9108-9266f793d93c",
   "metadata": {},
   "outputs": [
    {
     "data": {
      "text/plain": [
       "3"
      ]
     },
     "execution_count": 21,
     "metadata": {},
     "output_type": "execute_result"
    }
   ],
   "source": [
    "len(l)\n"
   ]
  },
  {
   "cell_type": "code",
   "execution_count": 25,
   "id": "4b288f24-b917-4a7b-a17e-00814e49e60a",
   "metadata": {},
   "outputs": [
    {
     "data": {
      "text/plain": [
       "3"
      ]
     },
     "execution_count": 25,
     "metadata": {},
     "output_type": "execute_result"
    }
   ],
   "source": [
    "len(l1)"
   ]
  },
  {
   "cell_type": "code",
   "execution_count": 27,
   "id": "92a9a2b0-99ba-43b5-aa18-8ae656411ffc",
   "metadata": {},
   "outputs": [
    {
     "data": {
      "text/plain": [
       "'harshada'"
      ]
     },
     "execution_count": 27,
     "metadata": {},
     "output_type": "execute_result"
    }
   ],
   "source": [
    "list[0]"
   ]
  },
  {
   "cell_type": "code",
   "execution_count": 31,
   "id": "2015061e-79e3-43f7-afb0-b4de63e33251",
   "metadata": {},
   "outputs": [],
   "source": [
    "del[l2]"
   ]
  },
  {
   "cell_type": "code",
   "execution_count": 35,
   "id": "d37ac788-68c6-41a7-8722-2b8bf57379a1",
   "metadata": {},
   "outputs": [
    {
     "data": {
      "text/plain": [
       "[10.2, 30.2, 19.35]"
      ]
     },
     "execution_count": 35,
     "metadata": {},
     "output_type": "execute_result"
    }
   ],
   "source": [
    "l"
   ]
  },
  {
   "cell_type": "code",
   "execution_count": 43,
   "id": "0d0eaaa5-e517-4b04-8247-d3fd0e98ca84",
   "metadata": {},
   "outputs": [
    {
     "data": {
      "text/plain": [
       "[]"
      ]
     },
     "execution_count": 43,
     "metadata": {},
     "output_type": "execute_result"
    }
   ],
   "source": [
    "list = []\n",
    "list"
   ]
  },
  {
   "cell_type": "code",
   "execution_count": 45,
   "id": "2eae3b5a-a372-4a86-b3d8-d4a5c37265c8",
   "metadata": {},
   "outputs": [
    {
     "data": {
      "text/plain": [
       "[10, 20, 30, 40, 50]"
      ]
     },
     "execution_count": 45,
     "metadata": {},
     "output_type": "execute_result"
    }
   ],
   "source": [
    "list = [10,20,30,40,50]\n",
    "list"
   ]
  },
  {
   "cell_type": "code",
   "execution_count": 49,
   "id": "49c90668-a28e-4ec3-80fd-6339a099473d",
   "metadata": {},
   "outputs": [
    {
     "data": {
      "text/plain": [
       "10"
      ]
     },
     "execution_count": 49,
     "metadata": {},
     "output_type": "execute_result"
    }
   ],
   "source": [
    "list[0] #reterive first element"
   ]
  },
  {
   "cell_type": "code",
   "execution_count": 51,
   "id": "99fa3059-3ff0-4b53-9d03-436361adae08",
   "metadata": {},
   "outputs": [
    {
     "data": {
      "text/plain": [
       "40"
      ]
     },
     "execution_count": 51,
     "metadata": {},
     "output_type": "execute_result"
    }
   ],
   "source": [
    "list[-2]"
   ]
  },
  {
   "cell_type": "code",
   "execution_count": 53,
   "id": "b26b74ab-847a-4029-b423-8cd86cf7675d",
   "metadata": {},
   "outputs": [
    {
     "data": {
      "text/plain": [
       "20"
      ]
     },
     "execution_count": 53,
     "metadata": {},
     "output_type": "execute_result"
    }
   ],
   "source": [
    "list[-4]"
   ]
  },
  {
   "cell_type": "code",
   "execution_count": 55,
   "id": "420a7b06-e16a-4672-a16f-c6d307caacba",
   "metadata": {},
   "outputs": [
    {
     "data": {
      "text/plain": [
       "[10, 20, 30]"
      ]
     },
     "execution_count": 55,
     "metadata": {},
     "output_type": "execute_result"
    }
   ],
   "source": [
    "list[0:3]"
   ]
  },
  {
   "cell_type": "code",
   "execution_count": 61,
   "id": "99c037f5-b88c-4912-9a07-1aa018a7efc1",
   "metadata": {},
   "outputs": [
    {
     "data": {
      "text/plain": [
       "[20, 30]"
      ]
     },
     "execution_count": 61,
     "metadata": {},
     "output_type": "execute_result"
    }
   ],
   "source": [
    "list[1:-2]"
   ]
  },
  {
   "cell_type": "code",
   "execution_count": 63,
   "id": "ce222de6-63f6-45aa-a2bc-1d522ca92e60",
   "metadata": {},
   "outputs": [
    {
     "data": {
      "text/plain": [
       "[10, 20, 30]"
      ]
     },
     "execution_count": 63,
     "metadata": {},
     "output_type": "execute_result"
    }
   ],
   "source": [
    "list[:3]"
   ]
  },
  {
   "cell_type": "code",
   "execution_count": 65,
   "id": "4045154a-9345-437b-9c1d-b01dfde82481",
   "metadata": {},
   "outputs": [
    {
     "data": {
      "text/plain": [
       "[30, 40, 50]"
      ]
     },
     "execution_count": 65,
     "metadata": {},
     "output_type": "execute_result"
    }
   ],
   "source": [
    "list[2:]"
   ]
  },
  {
   "cell_type": "code",
   "execution_count": 67,
   "id": "3d23000e-8f75-410a-9eb5-fbce12b7a084",
   "metadata": {},
   "outputs": [
    {
     "data": {
      "text/plain": [
       "[1, 2, 3, 4, 5, 6, 7]"
      ]
     },
     "execution_count": 67,
     "metadata": {},
     "output_type": "execute_result"
    }
   ],
   "source": [
    "li = [1,2,3,4,5,6,7]\n",
    "li"
   ]
  },
  {
   "cell_type": "code",
   "execution_count": 71,
   "id": "4cd0027e-8006-4929-b000-c532b0ecbbf9",
   "metadata": {},
   "outputs": [
    {
     "data": {
      "text/plain": [
       "[1, 2, 3, 4, 5, 6, 7, 9, 9]"
      ]
     },
     "execution_count": 71,
     "metadata": {},
     "output_type": "execute_result"
    }
   ],
   "source": [
    "li.append(9) # by default value add at a last of list\n",
    "li"
   ]
  },
  {
   "cell_type": "code",
   "execution_count": 73,
   "id": "05ba63fe-e1b2-4832-b552-0a99d336179f",
   "metadata": {},
   "outputs": [
    {
     "data": {
      "text/plain": [
       "[1, 2, 3, 4, 5, 6, 7, 9, 9, 3]"
      ]
     },
     "execution_count": 73,
     "metadata": {},
     "output_type": "execute_result"
    }
   ],
   "source": [
    "li.append(3)\n",
    "li"
   ]
  },
  {
   "cell_type": "code",
   "execution_count": 75,
   "id": "877e4fd8-9263-484f-956c-c4a1d5762144",
   "metadata": {},
   "outputs": [
    {
     "data": {
      "text/plain": [
       "[1, 2, 8, 3, 4, 5, 6, 7, 9, 9, 3]"
      ]
     },
     "execution_count": 75,
     "metadata": {},
     "output_type": "execute_result"
    }
   ],
   "source": [
    "li.insert(2,8) # value always add before the index in list \n",
    "li"
   ]
  },
  {
   "cell_type": "code",
   "execution_count": 77,
   "id": "0d95ae41-8fcc-48f1-9c31-2328a09910cb",
   "metadata": {},
   "outputs": [
    {
     "data": {
      "text/plain": [
       "[1, 2, 8, 3, 10, 4, 5, 6, 7, 9, 9, 3]"
      ]
     },
     "execution_count": 77,
     "metadata": {},
     "output_type": "execute_result"
    }
   ],
   "source": [
    "li.insert(4,10)\n",
    "li"
   ]
  },
  {
   "cell_type": "code",
   "execution_count": 79,
   "id": "13f8eb45-6183-409a-a93a-21e85c65f84f",
   "metadata": {},
   "outputs": [
    {
     "data": {
      "text/plain": [
       "[1, 2, 8, 3, 10, 4, 5, 6, 7, 9, 3]"
      ]
     },
     "execution_count": 79,
     "metadata": {},
     "output_type": "execute_result"
    }
   ],
   "source": [
    "li.remove(9) # remove function remove the value from the list \n",
    "li"
   ]
  },
  {
   "cell_type": "code",
   "execution_count": 81,
   "id": "c27b71b2-3943-4ff9-821a-4990f8559578",
   "metadata": {},
   "outputs": [
    {
     "data": {
      "text/plain": [
       "[1, 2, 8, 3, 10, 4, 5, 7, 9, 3]"
      ]
     },
     "execution_count": 81,
     "metadata": {},
     "output_type": "execute_result"
    }
   ],
   "source": [
    "li.remove(6)\n",
    "li"
   ]
  },
  {
   "cell_type": "code",
   "execution_count": 85,
   "id": "86670719-3017-4f97-842d-8d5a9df27527",
   "metadata": {},
   "outputs": [
    {
     "data": {
      "text/plain": [
       "[1, 2, 3, 10, 4, 5, 7, 9]"
      ]
     },
     "execution_count": 85,
     "metadata": {},
     "output_type": "execute_result"
    }
   ],
   "source": [
    "li.pop() #it elimenated last value from the list\n",
    "li"
   ]
  },
  {
   "cell_type": "code",
   "execution_count": 87,
   "id": "96f90bb7-c824-468d-9f69-cfbbc23e7653",
   "metadata": {},
   "outputs": [
    {
     "data": {
      "text/plain": [
       "[]"
      ]
     },
     "execution_count": 87,
     "metadata": {},
     "output_type": "execute_result"
    }
   ],
   "source": [
    "li1 = []\n",
    "li1"
   ]
  },
  {
   "cell_type": "code",
   "execution_count": 89,
   "id": "4f50f877-e0b7-4675-829b-d872601e7f04",
   "metadata": {},
   "outputs": [
    {
     "data": {
      "text/plain": [
       "[12, 30, 40, 50]"
      ]
     },
     "execution_count": 89,
     "metadata": {},
     "output_type": "execute_result"
    }
   ],
   "source": [
    "li1 = [12,30,40,50]\n",
    "li1"
   ]
  },
  {
   "cell_type": "code",
   "execution_count": 103,
   "id": "a7ec8cdb-8447-4c9d-8761-e8ea340cf5f4",
   "metadata": {},
   "outputs": [
    {
     "data": {
      "text/plain": [
       "[]"
      ]
     },
     "execution_count": 103,
     "metadata": {},
     "output_type": "execute_result"
    }
   ],
   "source": [
    "li.clear() #clear all values from the list\n",
    "li"
   ]
  },
  {
   "cell_type": "code",
   "execution_count": 105,
   "id": "5741b120-64f2-470d-a833-d2a2a1a8bf93",
   "metadata": {},
   "outputs": [
    {
     "data": {
      "text/plain": [
       "[]"
      ]
     },
     "execution_count": 105,
     "metadata": {},
     "output_type": "execute_result"
    }
   ],
   "source": [
    "list1 = []\n",
    "list1"
   ]
  },
  {
   "cell_type": "code",
   "execution_count": 107,
   "id": "ed646c44-8110-4248-9bbf-3adf577d655c",
   "metadata": {},
   "outputs": [
    {
     "data": {
      "text/plain": [
       "[2, 3, 4, 5, 6]"
      ]
     },
     "execution_count": 107,
     "metadata": {},
     "output_type": "execute_result"
    }
   ],
   "source": [
    "list1 = [2,3,4,5,6]\n",
    "list1"
   ]
  },
  {
   "cell_type": "code",
   "execution_count": 111,
   "id": "afb0d5af-8f99-42b7-b501-83db22cba024",
   "metadata": {},
   "outputs": [
    {
     "data": {
      "text/plain": [
       "[2, 3, 4, 5, 6]"
      ]
     },
     "execution_count": 111,
     "metadata": {},
     "output_type": "execute_result"
    }
   ],
   "source": [
    "list2 = list1.copy() # copy one list to another list\n",
    "list2"
   ]
  },
  {
   "cell_type": "code",
   "execution_count": 115,
   "id": "d63b0209-c7ad-4c56-8155-f2e959e60e24",
   "metadata": {},
   "outputs": [
    {
     "data": {
      "text/plain": [
       "[2, 3, 4, 5, 6, 2, 3, 4, 5, 6]"
      ]
     },
     "execution_count": 115,
     "metadata": {},
     "output_type": "execute_result"
    }
   ],
   "source": [
    "list1.extend(list2)# it add the two list . we can use + to add also\n",
    "list1"
   ]
  },
  {
   "cell_type": "code",
   "execution_count": 117,
   "id": "ccf36b66-d4e7-4dca-909d-01667248fd03",
   "metadata": {},
   "outputs": [
    {
     "data": {
      "text/plain": [
       "[6, 5, 4, 3, 2, 6, 5, 4, 3, 2]"
      ]
     },
     "execution_count": 117,
     "metadata": {},
     "output_type": "execute_result"
    }
   ],
   "source": [
    "list1.reverse() # it reveerse the list\n",
    "list1"
   ]
  },
  {
   "cell_type": "code",
   "execution_count": 121,
   "id": "36fb9aba-7213-4c31-9328-eaef1fd3b549",
   "metadata": {},
   "outputs": [
    {
     "data": {
      "text/plain": [
       "[6, 4, 2, 5, 3]"
      ]
     },
     "execution_count": 121,
     "metadata": {},
     "output_type": "execute_result"
    }
   ],
   "source": [
    "list1 = list1[::-2]\n",
    "list1"
   ]
  },
  {
   "cell_type": "code",
   "execution_count": 127,
   "id": "1cc9f455-8966-49cb-af5e-3026b696c939",
   "metadata": {},
   "outputs": [
    {
     "data": {
      "text/plain": [
       "[6, 4, 2, 5, 3]"
      ]
     },
     "execution_count": 127,
     "metadata": {},
     "output_type": "execute_result"
    }
   ],
   "source": [
    "list1.count(2)\n",
    "list1"
   ]
  },
  {
   "cell_type": "code",
   "execution_count": 131,
   "id": "632b934f-59e4-469a-bbec-5ac6f99fbe8d",
   "metadata": {},
   "outputs": [
    {
     "name": "stdout",
     "output_type": "stream",
     "text": [
      "10.2\n",
      "30.2\n",
      "19.35\n"
     ]
    }
   ],
   "source": [
    "for i in l:\n",
    "    print(i)"
   ]
  },
  {
   "cell_type": "code",
   "execution_count": 133,
   "id": "aa37d325-8bb5-4724-b982-b1a25249ba61",
   "metadata": {},
   "outputs": [
    {
     "name": "stdout",
     "output_type": "stream",
     "text": [
      "6\n",
      "4\n",
      "2\n",
      "5\n",
      "3\n"
     ]
    }
   ],
   "source": [
    "for i in list1:\n",
    "    print(i)"
   ]
  },
  {
   "cell_type": "markdown",
   "id": "dd2136d7-7e20-4a74-99f2-dee160d9eaa8",
   "metadata": {},
   "source": [
    "#### Project2 : Swapping the numbers"
   ]
  },
  {
   "cell_type": "code",
   "execution_count": 147,
   "id": "e971b248-6e05-468e-bdcb-08ba4b619b75",
   "metadata": {},
   "outputs": [],
   "source": [
    "a = 5 # using Opertor \n",
    "b = 6\n",
    "a = a+b\n",
    "b = a-b\n",
    "a = a-b"
   ]
  },
  {
   "cell_type": "code",
   "execution_count": 149,
   "id": "5fbaa1e0-48ba-43a1-9a93-70f30d6fd80e",
   "metadata": {},
   "outputs": [
    {
     "data": {
      "text/plain": [
       "6"
      ]
     },
     "execution_count": 149,
     "metadata": {},
     "output_type": "execute_result"
    }
   ],
   "source": [
    "a"
   ]
  },
  {
   "cell_type": "code",
   "execution_count": 145,
   "id": "91d5b239-4751-4087-bc16-6b05264d92c8",
   "metadata": {},
   "outputs": [
    {
     "data": {
      "text/plain": [
       "5"
      ]
     },
     "execution_count": 145,
     "metadata": {},
     "output_type": "execute_result"
    }
   ],
   "source": [
    "b"
   ]
  },
  {
   "cell_type": "code",
   "execution_count": 171,
   "id": "08ea4130-4630-42f3-a9f1-59c00f5dd8ee",
   "metadata": {},
   "outputs": [],
   "source": [
    "a = 20\n",
    "b = 30\n",
    "tem = a\n",
    "a = b\n",
    "tem = a"
   ]
  },
  {
   "cell_type": "code",
   "execution_count": 161,
   "id": "04c13b0b-bac6-494a-8508-69a030b0c6d4",
   "metadata": {},
   "outputs": [
    {
     "data": {
      "text/plain": [
       "30"
      ]
     },
     "execution_count": 161,
     "metadata": {},
     "output_type": "execute_result"
    }
   ],
   "source": [
    "a"
   ]
  }
 ],
 "metadata": {
  "kernelspec": {
   "display_name": "Python [conda env:base] *",
   "language": "python",
   "name": "conda-base-py"
  },
  "language_info": {
   "codemirror_mode": {
    "name": "ipython",
    "version": 3
   },
   "file_extension": ".py",
   "mimetype": "text/x-python",
   "name": "python",
   "nbconvert_exporter": "python",
   "pygments_lexer": "ipython3",
   "version": "3.12.7"
  }
 },
 "nbformat": 4,
 "nbformat_minor": 5
}
