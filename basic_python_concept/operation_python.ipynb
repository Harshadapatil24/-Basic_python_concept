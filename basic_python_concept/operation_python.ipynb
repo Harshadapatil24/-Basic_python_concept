{
 "cells": [
  {
   "cell_type": "markdown",
   "id": "f0b900e7-ed5e-46e3-ba54-594da7bf8db6",
   "metadata": {},
   "source": [
    "Set"
   ]
  },
  {
   "cell_type": "code",
   "execution_count": 3,
   "id": "4f0594a2-96a6-4471-a024-334c8a28217e",
   "metadata": {},
   "outputs": [
    {
     "data": {
      "text/plain": [
       "{(1+2j), 2, 3, 'nit'}"
      ]
     },
     "execution_count": 3,
     "metadata": {},
     "output_type": "execute_result"
    }
   ],
   "source": [
    "s5 = {2,3,'nit',1+2j}\n",
    "s5"
   ]
  },
  {
   "cell_type": "code",
   "execution_count": 5,
   "id": "08eca5f6-3f82-44ee-849d-876c0cf1b649",
   "metadata": {},
   "outputs": [
    {
     "data": {
      "text/plain": [
       "True"
      ]
     },
     "execution_count": 5,
     "metadata": {},
     "output_type": "execute_result"
    }
   ],
   "source": [
    "2 in s5"
   ]
  },
  {
   "cell_type": "code",
   "execution_count": 7,
   "id": "98568b30-4fc8-454e-a66a-e0b52c06dd58",
   "metadata": {},
   "outputs": [],
   "source": [
    "##discord- never give bug if it is member then eliminated"
   ]
  },
  {
   "cell_type": "markdown",
   "id": "dc26d373-b552-44b2-9d7c-78e61cce5d53",
   "metadata": {},
   "source": [
    "#1-feb"
   ]
  },
  {
   "cell_type": "code",
   "execution_count": 16,
   "id": "5f208758-edb6-4e7f-9cd3-fe4d2e68f0c7",
   "metadata": {},
   "outputs": [
    {
     "data": {
      "text/plain": [
       "{(1+2j), 2, 3, 'nit'}"
      ]
     },
     "execution_count": 16,
     "metadata": {},
     "output_type": "execute_result"
    }
   ],
   "source": [
    "s5"
   ]
  },
  {
   "cell_type": "code",
   "execution_count": 20,
   "id": "b110fac7-b19d-47a2-a65b-cf975e316c1b",
   "metadata": {},
   "outputs": [
    {
     "name": "stdout",
     "output_type": "stream",
     "text": [
      "2\n",
      "3\n",
      "nit\n",
      "(1+2j)\n"
     ]
    }
   ],
   "source": [
    "for i in s5:\n",
    "    print(i)"
   ]
  },
  {
   "cell_type": "code",
   "execution_count": 24,
   "id": "c77866d4-4622-4e40-acaf-d9126c841427",
   "metadata": {},
   "outputs": [
    {
     "name": "stdout",
     "output_type": "stream",
     "text": [
      "(0, 2)\n",
      "(1, 3)\n",
      "(2, 'nit')\n",
      "(3, (1+2j))\n"
     ]
    }
   ],
   "source": [
    "for i in enumerate (s5):\n",
    "    print(i)"
   ]
  },
  {
   "cell_type": "code",
   "execution_count": 30,
   "id": "9e0d6672-4319-4858-9851-93dafd805a2e",
   "metadata": {},
   "outputs": [
    {
     "data": {
      "text/plain": [
       "{(1+2j), 10, 100, 2, 20, 200, 3, 'nit'}"
      ]
     },
     "execution_count": 30,
     "metadata": {},
     "output_type": "execute_result"
    }
   ],
   "source": [
    "s5.update([10,20,100,200])\n",
    "s5"
   ]
  },
  {
   "cell_type": "code",
   "execution_count": 32,
   "id": "2b551df9-9ae8-4b85-97dc-c001628f9f20",
   "metadata": {},
   "outputs": [
    {
     "data": {
      "text/plain": [
       "{(1+2j), 10, 100, 2, 20, 200, 3, 'nit'}"
      ]
     },
     "execution_count": 32,
     "metadata": {},
     "output_type": "execute_result"
    }
   ],
   "source": [
    "s6 = s5.copy()\n",
    "s6"
   ]
  },
  {
   "cell_type": "markdown",
   "id": "292c9a5f-cc73-4691-a18a-e5dca67243f2",
   "metadata": {},
   "source": [
    "#set operations"
   ]
  },
  {
   "cell_type": "markdown",
   "id": "aee7f7e1-68cd-47f9-a128-90ddc54119d2",
   "metadata": {},
   "source": [
    "1.UNION"
   ]
  },
  {
   "cell_type": "code",
   "execution_count": 51,
   "id": "3fda278c-ef21-4c10-9352-240d49c3f40f",
   "metadata": {},
   "outputs": [],
   "source": [
    "A = {1,2,3,4,5}\n",
    "B = {4,5,6,7,8}\n",
    "C = {8,9,10}"
   ]
  },
  {
   "cell_type": "code",
   "execution_count": 53,
   "id": "09c0e7ba-988b-4a19-b604-350eef0d00e5",
   "metadata": {},
   "outputs": [
    {
     "data": {
      "text/plain": [
       "{1, 2, 3, 4, 5, 6, 7, 8}"
      ]
     },
     "execution_count": 53,
     "metadata": {},
     "output_type": "execute_result"
    }
   ],
   "source": [
    "A.union(B)"
   ]
  },
  {
   "cell_type": "code",
   "execution_count": 55,
   "id": "721911a0-e2b6-443f-9635-e304637cc872",
   "metadata": {},
   "outputs": [
    {
     "data": {
      "text/plain": [
       "{1, 2, 3, 4, 5, 6, 7, 8, 9, 10}"
      ]
     },
     "execution_count": 55,
     "metadata": {},
     "output_type": "execute_result"
    }
   ],
   "source": [
    "A.union(B,C)"
   ]
  },
  {
   "cell_type": "code",
   "execution_count": 59,
   "id": "2aca6033-b0e3-41ec-9c71-69dd94317331",
   "metadata": {},
   "outputs": [
    {
     "ename": "TypeError",
     "evalue": "'int' object is not iterable",
     "output_type": "error",
     "traceback": [
      "\u001b[1;31m---------------------------------------------------------------------------\u001b[0m",
      "\u001b[1;31mTypeError\u001b[0m                                 Traceback (most recent call last)",
      "Cell \u001b[1;32mIn[59], line 1\u001b[0m\n\u001b[1;32m----> 1\u001b[0m A\u001b[38;5;241m.\u001b[39munion(B,C, \u001b[38;5;241m56\u001b[39m)\n",
      "\u001b[1;31mTypeError\u001b[0m: 'int' object is not iterable"
     ]
    }
   ],
   "source": [
    "A.union(B,C, 56)"
   ]
  },
  {
   "cell_type": "code",
   "execution_count": 63,
   "id": "1ac0900a-e33e-4bfb-9df9-a36bbe7c86ef",
   "metadata": {},
   "outputs": [
    {
     "name": "stdout",
     "output_type": "stream",
     "text": [
      "{1, 2, 3, 4, 5}\n",
      "{4, 5, 6, 7, 8}\n",
      "{8, 9, 10}\n"
     ]
    }
   ],
   "source": [
    "print(A)\n",
    "print(B)\n",
    "print(C)"
   ]
  },
  {
   "cell_type": "code",
   "execution_count": 65,
   "id": "1eb2da72-06e1-4eb7-95f8-20e0bc91f26f",
   "metadata": {},
   "outputs": [
    {
     "data": {
      "text/plain": [
       "{1, 2, 3, 4, 5, 6, 7, 8}"
      ]
     },
     "execution_count": 65,
     "metadata": {},
     "output_type": "execute_result"
    }
   ],
   "source": [
    "A | B"
   ]
  },
  {
   "cell_type": "code",
   "execution_count": 71,
   "id": "f1ad60ca-81a5-4b95-b43f-8d9f4030cb41",
   "metadata": {},
   "outputs": [
    {
     "ename": "SyntaxError",
     "evalue": "invalid syntax (2597725180.py, line 1)",
     "output_type": "error",
     "traceback": [
      "\u001b[1;36m  Cell \u001b[1;32mIn[71], line 1\u001b[1;36m\u001b[0m\n\u001b[1;33m    A|B|C|\u001b[0m\n\u001b[1;37m          ^\u001b[0m\n\u001b[1;31mSyntaxError\u001b[0m\u001b[1;31m:\u001b[0m invalid syntax\n"
     ]
    }
   ],
   "source": [
    "A|B|C|"
   ]
  },
  {
   "cell_type": "markdown",
   "id": "d7271bdd-3580-447b-82a1-9cdd24befb0a",
   "metadata": {},
   "source": [
    "INTERSECTION"
   ]
  },
  {
   "cell_type": "code",
   "execution_count": 85,
   "id": "28b1cabc-d668-4920-8732-3dd4b51dfe3a",
   "metadata": {},
   "outputs": [
    {
     "data": {
      "text/plain": [
       "{4, 5}"
      ]
     },
     "execution_count": 85,
     "metadata": {},
     "output_type": "execute_result"
    }
   ],
   "source": [
    "A & B"
   ]
  },
  {
   "cell_type": "code",
   "execution_count": 87,
   "id": "3ba9caa0-4986-4694-b96d-ee6ea5443e78",
   "metadata": {},
   "outputs": [
    {
     "data": {
      "text/plain": [
       "set()"
      ]
     },
     "execution_count": 87,
     "metadata": {},
     "output_type": "execute_result"
    }
   ],
   "source": [
    "A.intersection (C)"
   ]
  },
  {
   "cell_type": "code",
   "execution_count": 89,
   "id": "465e973f-4c5e-40a6-9204-4eeb5f097a21",
   "metadata": {},
   "outputs": [
    {
     "data": {
      "text/plain": [
       "{8}"
      ]
     },
     "execution_count": 89,
     "metadata": {},
     "output_type": "execute_result"
    }
   ],
   "source": [
    "B.intersection(C)"
   ]
  },
  {
   "cell_type": "markdown",
   "id": "e353a7a6-46de-45f3-9789-03e573de8eb1",
   "metadata": {},
   "source": [
    "difference"
   ]
  },
  {
   "cell_type": "code",
   "execution_count": 92,
   "id": "c332bd7c-fcc5-4bf2-acbb-4f418ab40322",
   "metadata": {},
   "outputs": [
    {
     "data": {
      "text/plain": [
       "{1, 2, 3}"
      ]
     },
     "execution_count": 92,
     "metadata": {},
     "output_type": "execute_result"
    }
   ],
   "source": [
    "A - B # COMMON ELEMENT DOES NOT DISPLY"
   ]
  },
  {
   "cell_type": "code",
   "execution_count": 98,
   "id": "93707030-6c7d-4d3d-8312-6e87be5b7f5b",
   "metadata": {},
   "outputs": [
    {
     "data": {
      "text/plain": [
       "{1, 2, 3, 4, 5}"
      ]
     },
     "execution_count": 98,
     "metadata": {},
     "output_type": "execute_result"
    }
   ],
   "source": [
    "A.difference(C)"
   ]
  },
  {
   "cell_type": "code",
   "execution_count": 100,
   "id": "df64420a-039a-4f07-8ad6-00139ca55c07",
   "metadata": {},
   "outputs": [
    {
     "data": {
      "text/plain": [
       "{1, 2, 3, 4, 5}"
      ]
     },
     "execution_count": 100,
     "metadata": {},
     "output_type": "execute_result"
    }
   ],
   "source": [
    "A - C"
   ]
  },
  {
   "cell_type": "code",
   "execution_count": 102,
   "id": "c196a227-a06e-450e-a703-09923f727d1f",
   "metadata": {},
   "outputs": [
    {
     "data": {
      "text/plain": [
       "{8, 9, 10}"
      ]
     },
     "execution_count": 102,
     "metadata": {},
     "output_type": "execute_result"
    }
   ],
   "source": [
    "C - A"
   ]
  },
  {
   "cell_type": "markdown",
   "id": "7db22100-5fa4-4b5d-ba72-afaa0a624a2e",
   "metadata": {},
   "source": [
    "SYMMETRIC DIFFERENCE"
   ]
  },
  {
   "cell_type": "code",
   "execution_count": 106,
   "id": "91f453ca-aa8b-479e-9111-b17ead003be6",
   "metadata": {},
   "outputs": [
    {
     "name": "stdout",
     "output_type": "stream",
     "text": [
      "{1, 2, 3, 4, 5}\n",
      "{4, 5, 6, 7, 8}\n",
      "{8, 9, 10}\n"
     ]
    }
   ],
   "source": [
    "print(A)\n",
    "print(B)\n",
    "print(C)"
   ]
  },
  {
   "cell_type": "code",
   "execution_count": 104,
   "id": "64f108d5-489c-45eb-bb7b-67019a590b9e",
   "metadata": {},
   "outputs": [
    {
     "data": {
      "text/plain": [
       "{1, 2, 3, 6, 7, 8}"
      ]
     },
     "execution_count": 104,
     "metadata": {},
     "output_type": "execute_result"
    }
   ],
   "source": [
    "A.symmetric_difference(B) # similar item will be remove"
   ]
  },
  {
   "cell_type": "code",
   "execution_count": 108,
   "id": "5f9602c6-56cb-4b52-9831-147747baa7d0",
   "metadata": {},
   "outputs": [
    {
     "data": {
      "text/plain": [
       "{1, 2, 3, 4, 5, 8, 9, 10}"
      ]
     },
     "execution_count": 108,
     "metadata": {},
     "output_type": "execute_result"
    }
   ],
   "source": [
    "A.symmetric_difference(C)"
   ]
  },
  {
   "cell_type": "code",
   "execution_count": 110,
   "id": "0322220e-8322-449b-90c9-7b642a1a530b",
   "metadata": {},
   "outputs": [
    {
     "data": {
      "text/plain": [
       "{1, 2, 3, 6, 7, 8}"
      ]
     },
     "execution_count": 110,
     "metadata": {},
     "output_type": "execute_result"
    }
   ],
   "source": [
    "B.symmetric_difference(A)"
   ]
  },
  {
   "cell_type": "code",
   "execution_count": 114,
   "id": "fb624270-26fa-42ce-90dc-cd1a8f4f2363",
   "metadata": {},
   "outputs": [
    {
     "data": {
      "text/plain": [
       "{1, 2, 3, 6, 7, 8}"
      ]
     },
     "execution_count": 114,
     "metadata": {},
     "output_type": "execute_result"
    }
   ],
   "source": [
    "B ^ A # also thi symbol is used"
   ]
  },
  {
   "cell_type": "markdown",
   "id": "87f7d694-f1ce-4a38-925a-2bccd390f51c",
   "metadata": {},
   "source": [
    "Super set Subste and disjoint"
   ]
  },
  {
   "cell_type": "code",
   "execution_count": 118,
   "id": "2f411ff0-6a99-47df-a9ad-93c42d18b41b",
   "metadata": {},
   "outputs": [],
   "source": [
    "A1 = {1,2,3,4,5,6,7,8,9}\n",
    "B1 = {3,4,5,6,7,8}\n",
    "C1 = {10,20,30,40}"
   ]
  },
  {
   "cell_type": "code",
   "execution_count": 120,
   "id": "b8504fba-d422-4ca4-ac3c-fb680d5877b7",
   "metadata": {},
   "outputs": [
    {
     "data": {
      "text/plain": [
       "True"
      ]
     },
     "execution_count": 120,
     "metadata": {},
     "output_type": "execute_result"
    }
   ],
   "source": [
    "B1.issubset(A1)"
   ]
  },
  {
   "cell_type": "code",
   "execution_count": 122,
   "id": "3f1ca573-7a81-438e-b6da-9bd9e05fd121",
   "metadata": {},
   "outputs": [
    {
     "data": {
      "text/plain": [
       "False"
      ]
     },
     "execution_count": 122,
     "metadata": {},
     "output_type": "execute_result"
    }
   ],
   "source": [
    "A1.issubset(B1)"
   ]
  },
  {
   "cell_type": "code",
   "execution_count": 124,
   "id": "28891ca2-8a06-43dc-93e7-26205ae689ee",
   "metadata": {},
   "outputs": [
    {
     "data": {
      "text/plain": [
       "True"
      ]
     },
     "execution_count": 124,
     "metadata": {},
     "output_type": "execute_result"
    }
   ],
   "source": [
    "A1.issuperset(B1)"
   ]
  },
  {
   "cell_type": "code",
   "execution_count": 126,
   "id": "99eaf7f5-188e-4b91-9e72-9af0e3469245",
   "metadata": {},
   "outputs": [
    {
     "data": {
      "text/plain": [
       "False"
      ]
     },
     "execution_count": 126,
     "metadata": {},
     "output_type": "execute_result"
    }
   ],
   "source": [
    "C1.issubset(A1)"
   ]
  },
  {
   "cell_type": "code",
   "execution_count": 128,
   "id": "ab7ec4b7-d04e-4594-92e2-35e6a0ff76be",
   "metadata": {},
   "outputs": [
    {
     "data": {
      "text/plain": [
       "True"
      ]
     },
     "execution_count": 128,
     "metadata": {},
     "output_type": "execute_result"
    }
   ],
   "source": [
    "C1.isdisjoint(A1)"
   ]
  },
  {
   "cell_type": "code",
   "execution_count": 136,
   "id": "62a86708-b1f0-49b1-92fe-e2d6bc225731",
   "metadata": {},
   "outputs": [],
   "source": [
    "A2 = {1,2,3,4,5,6,7,8,9}\n",
    "B2 = {13,14,15,16,17,18}\n",
    "C2 = {10,20,30,40}"
   ]
  },
  {
   "cell_type": "code",
   "execution_count": 138,
   "id": "fddd3d7c-dc99-41e4-b6d9-35fda30f7738",
   "metadata": {},
   "outputs": [
    {
     "data": {
      "text/plain": [
       "False"
      ]
     },
     "execution_count": 138,
     "metadata": {},
     "output_type": "execute_result"
    }
   ],
   "source": [
    "B2.issubset(A2)"
   ]
  },
  {
   "cell_type": "code",
   "execution_count": 140,
   "id": "2ab6e9dc-1244-44c5-80ee-9f87aabf70a6",
   "metadata": {},
   "outputs": [
    {
     "data": {
      "text/plain": [
       "False"
      ]
     },
     "execution_count": 140,
     "metadata": {},
     "output_type": "execute_result"
    }
   ],
   "source": [
    "A2.issuperset(B2)"
   ]
  },
  {
   "cell_type": "code",
   "execution_count": 144,
   "id": "97c9cb73-c886-48f7-bc3f-62c9dbdbb7a3",
   "metadata": {},
   "outputs": [
    {
     "name": "stdout",
     "output_type": "stream",
     "text": [
      "(0, 1)\n",
      "(1, 2)\n",
      "(2, 3)\n",
      "(3, 4)\n",
      "(4, 5)\n"
     ]
    }
   ],
   "source": [
    "for i in enumerate(A):\n",
    "    print(i)"
   ]
  },
  {
   "cell_type": "code",
   "execution_count": 146,
   "id": "8b20882d-7f3a-41bb-8b17-c7a0a31952c7",
   "metadata": {},
   "outputs": [
    {
     "data": {
      "text/plain": [
       "[(0, 1), (1, 2), (2, 3), (3, 4), (4, 5)]"
      ]
     },
     "execution_count": 146,
     "metadata": {},
     "output_type": "execute_result"
    }
   ],
   "source": [
    "list(enumerate(A))"
   ]
  },
  {
   "cell_type": "code",
   "execution_count": 148,
   "id": "1c0212d4-dc6d-4610-9755-41ff86afd371",
   "metadata": {},
   "outputs": [
    {
     "data": {
      "text/plain": [
       "False"
      ]
     },
     "execution_count": 148,
     "metadata": {},
     "output_type": "execute_result"
    }
   ],
   "source": [
    "A1.issuperset(B2)"
   ]
  },
  {
   "cell_type": "markdown",
   "id": "6df9304b-0c37-4416-9562-712dcf17df42",
   "metadata": {},
   "source": [
    "Dictinory "
   ]
  },
  {
   "cell_type": "code",
   "execution_count": 3,
   "id": "23df8dfa-f942-4faf-bad0-0eb5da271a39",
   "metadata": {},
   "outputs": [
    {
     "data": {
      "text/plain": [
       "{}"
      ]
     },
     "execution_count": 3,
     "metadata": {},
     "output_type": "execute_result"
    }
   ],
   "source": [
    "d = {}\n",
    "d"
   ]
  },
  {
   "cell_type": "code",
   "execution_count": 5,
   "id": "bae4353d-cb3a-4a06-a81d-75c4e5b8b8f4",
   "metadata": {},
   "outputs": [
    {
     "data": {
      "text/plain": [
       "dict"
      ]
     },
     "execution_count": 5,
     "metadata": {},
     "output_type": "execute_result"
    }
   ],
   "source": [
    "type(d)"
   ]
  },
  {
   "cell_type": "code",
   "execution_count": 9,
   "id": "143bc785-087d-4484-9483-e8df28b37da6",
   "metadata": {},
   "outputs": [
    {
     "data": {
      "text/plain": [
       "{1: 'one', 2: 'two', 3: 'three'}"
      ]
     },
     "execution_count": 9,
     "metadata": {},
     "output_type": "execute_result"
    }
   ],
   "source": [
    "d1 = {1:'one',2:'two',3:'three'}\n",
    "d1"
   ]
  },
  {
   "cell_type": "code",
   "execution_count": 11,
   "id": "16332546-3c88-470e-b9f2-84132fbb6c44",
   "metadata": {},
   "outputs": [
    {
     "data": {
      "text/plain": [
       "dict_keys([1, 2, 3])"
      ]
     },
     "execution_count": 11,
     "metadata": {},
     "output_type": "execute_result"
    }
   ],
   "source": [
    "d1.keys()"
   ]
  },
  {
   "cell_type": "code",
   "execution_count": 13,
   "id": "a7f21628-bacd-426b-9619-ba8e5a0df946",
   "metadata": {},
   "outputs": [
    {
     "data": {
      "text/plain": [
       "dict_items([(1, 'one'), (2, 'two'), (3, 'three')])"
      ]
     },
     "execution_count": 13,
     "metadata": {},
     "output_type": "execute_result"
    }
   ],
   "source": [
    "d1.items()"
   ]
  },
  {
   "cell_type": "code",
   "execution_count": null,
   "id": "882eecb3-3e19-45c9-9545-1395f34a1c77",
   "metadata": {},
   "outputs": [],
   "source": []
  },
  {
   "cell_type": "code",
   "execution_count": null,
   "id": "376fa821-9917-4177-a91e-6539ebc59bb3",
   "metadata": {},
   "outputs": [],
   "source": []
  }
 ],
 "metadata": {
  "kernelspec": {
   "display_name": "Python [conda env:base] *",
   "language": "python",
   "name": "conda-base-py"
  },
  "language_info": {
   "codemirror_mode": {
    "name": "ipython",
    "version": 3
   },
   "file_extension": ".py",
   "mimetype": "text/x-python",
   "name": "python",
   "nbconvert_exporter": "python",
   "pygments_lexer": "ipython3",
   "version": "3.12.7"
  }
 },
 "nbformat": 4,
 "nbformat_minor": 5
}
